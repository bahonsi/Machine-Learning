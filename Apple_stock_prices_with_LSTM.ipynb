{
  "nbformat": 4,
  "nbformat_minor": 0,
  "metadata": {
    "colab": {
      "name": "Apple stock prices with LSTM",
      "provenance": [],
      "authorship_tag": "ABX9TyNiX4MPTWYgx8GqLdOxJXxH",
      "include_colab_link": true
    },
    "kernelspec": {
      "name": "python3",
      "display_name": "Python 3"
    }
  },
  "cells": [
    {
      "cell_type": "markdown",
      "metadata": {
        "id": "view-in-github",
        "colab_type": "text"
      },
      "source": [
        "<a href=\"https://colab.research.google.com/github/bahonsi/Machine-Learning/blob/master/Apple_stock_prices_with_LSTM.ipynb\" target=\"_parent\"><img src=\"https://colab.research.google.com/assets/colab-badge.svg\" alt=\"Open In Colab\"/></a>"
      ]
    },
    {
      "cell_type": "markdown",
      "metadata": {
        "id": "hESJ4ehfKNx1",
        "colab_type": "text"
      },
      "source": [
        "This program uses an artificial recurrent neural network called Long Short Term Memory (LSTM) to predict the closing stock price of a corporation (Apple Inc.) using the past 30 day stock price."
      ]
    },
    {
      "cell_type": "markdown",
      "metadata": {
        "id": "os1msOfueH3f",
        "colab_type": "text"
      },
      "source": [
        "For this project I aimed to archive the following task: \n",
        "- Import data from a web source\n",
        "- Present the data\n",
        "- Visualise the data (Closing price, Adjusted close & high and low)\n",
        "- Create a new column in the data frame \n",
        "- Scale data \n",
        "- Compile the model\n",
        "- Train data using 80% \n",
        "- Test data using 20 % \n",
        "- Plot a graph \n",
        "- Reshape the data into the shape accepted by the LSTM\n",
        "- Plot/Create the data for the graph\n",
        "- Predict the closing price\n",
        "\n",
        "\n",
        "\n",
        "\n"
      ]
    },
    {
      "cell_type": "code",
      "metadata": {
        "id": "3xYsJqd9KQja",
        "colab_type": "code",
        "colab": {
          "base_uri": "https://localhost:8080/",
          "height": 88
        },
        "outputId": "15b7f9ec-345f-4d65-d4f2-86413eb4738a"
      },
      "source": [
        "#Import the libraries\n",
        "import math\n",
        "import pandas_datareader as web\n",
        "import numpy as np\n",
        "import pandas as pd\n",
        "from sklearn.preprocessing import MinMaxScaler\n",
        "from keras.models import Sequential\n",
        "from keras.layers import Dense, LSTM\n",
        "import matplotlib.pyplot as plt\n",
        "plt.style.use('fivethirtyeight')"
      ],
      "execution_count": null,
      "outputs": [
        {
          "output_type": "stream",
          "text": [
            "/usr/local/lib/python3.6/dist-packages/pandas_datareader/compat/__init__.py:7: FutureWarning: pandas.util.testing is deprecated. Use the functions in the public API at pandas.testing instead.\n",
            "  from pandas.util.testing import assert_frame_equal\n",
            "Using TensorFlow backend.\n"
          ],
          "name": "stderr"
        }
      ]
    },
    {
      "cell_type": "code",
      "metadata": {
        "id": "OEeqY3v3KXoU",
        "colab_type": "code",
        "colab": {
          "base_uri": "https://localhost:8080/",
          "height": 450
        },
        "outputId": "fc7649d6-c9d2-4659-e270-60697819794c"
      },
      "source": [
        "#Get the stock data from Yahoo\n",
        "df = web.DataReader('AAPL', data_source='yahoo', start='2018-08-04', end='2019-08-30') \n",
        "#Show the data \n",
        "df"
      ],
      "execution_count": null,
      "outputs": [
        {
          "output_type": "execute_result",
          "data": {
            "text/html": [
              "<div>\n",
              "<style scoped>\n",
              "    .dataframe tbody tr th:only-of-type {\n",
              "        vertical-align: middle;\n",
              "    }\n",
              "\n",
              "    .dataframe tbody tr th {\n",
              "        vertical-align: top;\n",
              "    }\n",
              "\n",
              "    .dataframe thead th {\n",
              "        text-align: right;\n",
              "    }\n",
              "</style>\n",
              "<table border=\"1\" class=\"dataframe\">\n",
              "  <thead>\n",
              "    <tr style=\"text-align: right;\">\n",
              "      <th></th>\n",
              "      <th>High</th>\n",
              "      <th>Low</th>\n",
              "      <th>Open</th>\n",
              "      <th>Close</th>\n",
              "      <th>Volume</th>\n",
              "      <th>Adj Close</th>\n",
              "    </tr>\n",
              "    <tr>\n",
              "      <th>Date</th>\n",
              "      <th></th>\n",
              "      <th></th>\n",
              "      <th></th>\n",
              "      <th></th>\n",
              "      <th></th>\n",
              "      <th></th>\n",
              "    </tr>\n",
              "  </thead>\n",
              "  <tbody>\n",
              "    <tr>\n",
              "      <th>2018-08-06</th>\n",
              "      <td>209.250000</td>\n",
              "      <td>207.070007</td>\n",
              "      <td>208.000000</td>\n",
              "      <td>209.070007</td>\n",
              "      <td>25425400.0</td>\n",
              "      <td>203.506500</td>\n",
              "    </tr>\n",
              "    <tr>\n",
              "      <th>2018-08-07</th>\n",
              "      <td>209.500000</td>\n",
              "      <td>206.759995</td>\n",
              "      <td>209.320007</td>\n",
              "      <td>207.110001</td>\n",
              "      <td>25587400.0</td>\n",
              "      <td>201.598648</td>\n",
              "    </tr>\n",
              "    <tr>\n",
              "      <th>2018-08-08</th>\n",
              "      <td>207.809998</td>\n",
              "      <td>204.520004</td>\n",
              "      <td>206.050003</td>\n",
              "      <td>207.250000</td>\n",
              "      <td>22525500.0</td>\n",
              "      <td>201.734955</td>\n",
              "    </tr>\n",
              "    <tr>\n",
              "      <th>2018-08-09</th>\n",
              "      <td>209.779999</td>\n",
              "      <td>207.199997</td>\n",
              "      <td>209.529999</td>\n",
              "      <td>208.880005</td>\n",
              "      <td>23492600.0</td>\n",
              "      <td>203.321579</td>\n",
              "    </tr>\n",
              "    <tr>\n",
              "      <th>2018-08-10</th>\n",
              "      <td>209.100006</td>\n",
              "      <td>206.669998</td>\n",
              "      <td>207.360001</td>\n",
              "      <td>207.529999</td>\n",
              "      <td>24611200.0</td>\n",
              "      <td>202.715927</td>\n",
              "    </tr>\n",
              "    <tr>\n",
              "      <th>...</th>\n",
              "      <td>...</td>\n",
              "      <td>...</td>\n",
              "      <td>...</td>\n",
              "      <td>...</td>\n",
              "      <td>...</td>\n",
              "      <td>...</td>\n",
              "    </tr>\n",
              "    <tr>\n",
              "      <th>2019-08-26</th>\n",
              "      <td>207.190002</td>\n",
              "      <td>205.059998</td>\n",
              "      <td>205.860001</td>\n",
              "      <td>206.490005</td>\n",
              "      <td>26043600.0</td>\n",
              "      <td>204.830002</td>\n",
              "    </tr>\n",
              "    <tr>\n",
              "      <th>2019-08-27</th>\n",
              "      <td>208.550003</td>\n",
              "      <td>203.529999</td>\n",
              "      <td>207.860001</td>\n",
              "      <td>204.160004</td>\n",
              "      <td>25873300.0</td>\n",
              "      <td>202.518738</td>\n",
              "    </tr>\n",
              "    <tr>\n",
              "      <th>2019-08-28</th>\n",
              "      <td>205.720001</td>\n",
              "      <td>203.320007</td>\n",
              "      <td>204.100006</td>\n",
              "      <td>205.529999</td>\n",
              "      <td>15938800.0</td>\n",
              "      <td>203.877731</td>\n",
              "    </tr>\n",
              "    <tr>\n",
              "      <th>2019-08-29</th>\n",
              "      <td>209.320007</td>\n",
              "      <td>206.660004</td>\n",
              "      <td>208.500000</td>\n",
              "      <td>209.009995</td>\n",
              "      <td>20990500.0</td>\n",
              "      <td>207.329742</td>\n",
              "    </tr>\n",
              "    <tr>\n",
              "      <th>2019-08-30</th>\n",
              "      <td>210.449997</td>\n",
              "      <td>207.199997</td>\n",
              "      <td>210.160004</td>\n",
              "      <td>208.740005</td>\n",
              "      <td>21143400.0</td>\n",
              "      <td>207.061920</td>\n",
              "    </tr>\n",
              "  </tbody>\n",
              "</table>\n",
              "<p>270 rows × 6 columns</p>\n",
              "</div>"
            ],
            "text/plain": [
              "                  High         Low  ...      Volume   Adj Close\n",
              "Date                                ...                        \n",
              "2018-08-06  209.250000  207.070007  ...  25425400.0  203.506500\n",
              "2018-08-07  209.500000  206.759995  ...  25587400.0  201.598648\n",
              "2018-08-08  207.809998  204.520004  ...  22525500.0  201.734955\n",
              "2018-08-09  209.779999  207.199997  ...  23492600.0  203.321579\n",
              "2018-08-10  209.100006  206.669998  ...  24611200.0  202.715927\n",
              "...                ...         ...  ...         ...         ...\n",
              "2019-08-26  207.190002  205.059998  ...  26043600.0  204.830002\n",
              "2019-08-27  208.550003  203.529999  ...  25873300.0  202.518738\n",
              "2019-08-28  205.720001  203.320007  ...  15938800.0  203.877731\n",
              "2019-08-29  209.320007  206.660004  ...  20990500.0  207.329742\n",
              "2019-08-30  210.449997  207.199997  ...  21143400.0  207.061920\n",
              "\n",
              "[270 rows x 6 columns]"
            ]
          },
          "metadata": {
            "tags": []
          },
          "execution_count": 3
        }
      ]
    },
    {
      "cell_type": "code",
      "metadata": {
        "id": "WBzuMqDCLCaH",
        "colab_type": "code",
        "colab": {
          "base_uri": "https://localhost:8080/",
          "height": 34
        },
        "outputId": "3e30c594-435c-4a3f-e528-52918693bbe4"
      },
      "source": [
        "#Showing the number of rows and columns\n",
        "df.shape"
      ],
      "execution_count": null,
      "outputs": [
        {
          "output_type": "execute_result",
          "data": {
            "text/plain": [
              "(270, 6)"
            ]
          },
          "metadata": {
            "tags": []
          },
          "execution_count": 4
        }
      ]
    },
    {
      "cell_type": "code",
      "metadata": {
        "id": "Uk2w6dOjLPTM",
        "colab_type": "code",
        "colab": {
          "base_uri": "https://localhost:8080/",
          "height": 558
        },
        "outputId": "2c07459e-05de-4d84-edbd-d841ff66ec38"
      },
      "source": [
        "#Visualize the closing price history\n",
        "plt.figure(figsize=(16,8))\n",
        "plt.title('Close Price History')\n",
        "plt.plot(df['Close'])\n",
        "plt.xlabel('Date',fontsize=18)\n",
        "plt.ylabel('Close Price USD ($)',fontsize=18)\n",
        "plt.show()"
      ],
      "execution_count": null,
      "outputs": [
        {
          "output_type": "display_data",
          "data": {
            "image/png": "[encoded data removed]",
            "text/plain": [
              "<Figure size 1152x576 with 1 Axes>"
            ]
          },
          "metadata": {
            "tags": []
          }
        }
      ]
    },
    {
      "cell_type": "code",
      "metadata": {
        "id": "v7AfXHp5LcKo",
        "colab_type": "code",
        "colab": {}
      },
      "source": [
        "#Create a new dataframe with only the 'Close' column\n",
        "data = df.filter(['Close'])\n",
        "#Converting the dataframe to a numpy array\n",
        "dataset = data.values\n",
        "#Get /Compute the number of rows to train the model.(Training is 80%)\n",
        "training_data_len = math.ceil( len(dataset) *.8) "
      ],
      "execution_count": null,
      "outputs": []
    },
    {
      "cell_type": "code",
      "metadata": {
        "id": "mGbeXyZILlji",
        "colab_type": "code",
        "colab": {}
      },
      "source": [
        "#Scale all of the data to be values between 0 and 1 \n",
        "scaler = MinMaxScaler(feature_range=(0, 1)) \n",
        "scaled_data = scaler.fit_transform(dataset)"
      ],
      "execution_count": null,
      "outputs": []
    },
    {
      "cell_type": "code",
      "metadata": {
        "id": "yLTZQVZrLvgj",
        "colab_type": "code",
        "colab": {}
      },
      "source": [
        "#Create the scaled training data set \n",
        "train_data = scaled_data[0:training_data_len  , : ]\n",
        "#Split the data into x_train and y_train data sets\n",
        "x_train=[]\n",
        "y_train = []\n",
        "for i in range(30,len(train_data)):\n",
        "    x_train.append(train_data[i-30:i,0])\n",
        "    y_train.append(train_data[i,0])"
      ],
      "execution_count": null,
      "outputs": []
    },
    {
      "cell_type": "code",
      "metadata": {
        "id": "0JRv8JagL590",
        "colab_type": "code",
        "colab": {}
      },
      "source": [
        "#Convert x_train and y_train to numpy arrays\n",
        "x_train, y_train = np.array(x_train), np.array(y_train)"
      ],
      "execution_count": null,
      "outputs": []
    },
    {
      "cell_type": "code",
      "metadata": {
        "id": "1FFfacM5MAoD",
        "colab_type": "code",
        "colab": {}
      },
      "source": [
        "#Reshape the data into the shape accepted by the LSTM\n",
        "x_train = np.reshape(x_train, (x_train.shape[0],x_train.shape[1],1))"
      ],
      "execution_count": null,
      "outputs": []
    },
    {
      "cell_type": "code",
      "metadata": {
        "id": "iM1erxEzMCSd",
        "colab_type": "code",
        "colab": {}
      },
      "source": [
        "#Build the LSTM network model\n",
        "model = Sequential()\n",
        "model.add(LSTM(units=50, return_sequences=True,input_shape=(x_train.shape[1],1)))\n",
        "model.add(LSTM(units=50, return_sequences=False))\n",
        "model.add(Dense(units=25))\n",
        "model.add(Dense(units=1))"
      ],
      "execution_count": null,
      "outputs": []
    },
    {
      "cell_type": "code",
      "metadata": {
        "id": "keo7yN4_MIqk",
        "colab_type": "code",
        "colab": {}
      },
      "source": [
        "#Compile the model\n",
        "model.compile(optimizer='adam', loss='mean_squared_error')"
      ],
      "execution_count": null,
      "outputs": []
    },
    {
      "cell_type": "code",
      "metadata": {
        "id": "vb4POVbNMPEq",
        "colab_type": "code",
        "colab": {
          "base_uri": "https://localhost:8080/",
          "height": 68
        },
        "outputId": "720d3430-eac3-4a92-d75e-bf02aba15fb9"
      },
      "source": [
        "#Train the model\n",
        "model.fit(x_train, y_train, batch_size=1, epochs=1)\n"
      ],
      "execution_count": null,
      "outputs": [
        {
          "output_type": "stream",
          "text": [
            "Epoch 1/1\n",
            "186/186 [==============================] - 4s 21ms/step - loss: 0.0223\n"
          ],
          "name": "stdout"
        },
        {
          "output_type": "execute_result",
          "data": {
            "text/plain": [
              "<keras.callbacks.callbacks.History at 0x7f70ff867c50>"
            ]
          },
          "metadata": {
            "tags": []
          },
          "execution_count": 13
        }
      ]
    },
    {
      "cell_type": "code",
      "metadata": {
        "id": "03cPnEvgNYuN",
        "colab_type": "code",
        "colab": {}
      },
      "source": [
        "#Test data set\n",
        "test_data = scaled_data[training_data_len - 30: , : ]\n",
        "#Create the x_test and y_test data sets\n",
        "x_test = []\n",
        "y_test =  dataset[training_data_len : , : ] \n",
        "#Get all of the rows from index 170 to the rest and all of the columns (in this case it's only column 'Close'), so 270 - 170 = 100 rows of data\n",
        "for i in range(30,len(test_data)):\n",
        "    x_test.append(test_data[i-30:i,0])"
      ],
      "execution_count": null,
      "outputs": []
    },
    {
      "cell_type": "code",
      "metadata": {
        "id": "nkjCezStOMJF",
        "colab_type": "code",
        "colab": {}
      },
      "source": [
        "#Convert x_test to a numpy array \n",
        "x_test = np.array(x_test)"
      ],
      "execution_count": null,
      "outputs": []
    },
    {
      "cell_type": "code",
      "metadata": {
        "id": "r1jP6zpYOPoe",
        "colab_type": "code",
        "colab": {}
      },
      "source": [
        "#Convert x_test to a numpy array \n",
        "x_test = np.array(x_test)"
      ],
      "execution_count": null,
      "outputs": []
    },
    {
      "cell_type": "code",
      "metadata": {
        "id": "znPYy8DvOr2O",
        "colab_type": "code",
        "colab": {}
      },
      "source": [
        "#Reshape the data into the shape accepted by the LSTM\n",
        "x_test = np.reshape(x_test, (x_test.shape[0],x_test.shape[1],1))"
      ],
      "execution_count": null,
      "outputs": []
    },
    {
      "cell_type": "code",
      "metadata": {
        "id": "NUPAVJhBOUF6",
        "colab_type": "code",
        "colab": {}
      },
      "source": [
        "#Getting the models predicted price values\n",
        "predictions = model.predict(x_test) \n",
        "predictions = scaler.inverse_transform(predictions) #Undo scaling"
      ],
      "execution_count": null,
      "outputs": []
    },
    {
      "cell_type": "code",
      "metadata": {
        "id": "UZMxj_DMOxL4",
        "colab_type": "code",
        "colab": {
          "base_uri": "https://localhost:8080/",
          "height": 34
        },
        "outputId": "f1928fdd-0cb8-4892-afe7-3431369e91e7"
      },
      "source": [
        "#Calculate/Get the value of RMSE\n",
        "rmse=np.sqrt(np.mean(((predictions- y_test)**2)))\n",
        "rmse"
      ],
      "execution_count": null,
      "outputs": [
        {
          "output_type": "execute_result",
          "data": {
            "text/plain": [
              "5.321861734813619"
            ]
          },
          "metadata": {
            "tags": []
          },
          "execution_count": 19
        }
      ]
    },
    {
      "cell_type": "code",
      "metadata": {
        "id": "1nGRblYGO4En",
        "colab_type": "code",
        "colab": {
          "base_uri": "https://localhost:8080/",
          "height": 660
        },
        "outputId": "3fc4d33e-c1f2-4a79-93d7-281a6d0a7aac"
      },
      "source": [
        "#Plot/Create the data for the graph\n",
        "train = data[:training_data_len]\n",
        "valid = data[training_data_len:]\n",
        "valid['Predictions'] = predictions\n",
        "#Visualize the data\n",
        "plt.figure(figsize=(16,8))\n",
        "plt.title('Model')\n",
        "plt.xlabel('Date', fontsize=18)\n",
        "plt.ylabel('Close Price USD ($)', fontsize=18)\n",
        "plt.plot(train['Close'])\n",
        "plt.plot(valid[['Close', 'Predictions']])\n",
        "plt.legend(['Train', 'Val', 'Predictions'], loc='lower right')\n",
        "plt.show()\n"
      ],
      "execution_count": null,
      "outputs": [
        {
          "output_type": "stream",
          "text": [
            "/usr/local/lib/python3.6/dist-packages/ipykernel_launcher.py:4: SettingWithCopyWarning: \n",
            "A value is trying to be set on a copy of a slice from a DataFrame.\n",
            "Try using .loc[row_indexer,col_indexer] = value instead\n",
            "\n",
            "See the caveats in the documentation: https://pandas.pydata.org/pandas-docs/stable/user_guide/indexing.html#returning-a-view-versus-a-copy\n",
            "  after removing the cwd from sys.path.\n"
          ],
          "name": "stderr"
        },
        {
          "output_type": "display_data",
          "data": {
            "image/png": "[encoded data removed]",
            "text/plain": [
              "<Figure size 1152x576 with 1 Axes>"
            ]
          },
          "metadata": {
            "tags": []
          }
        }
      ]
    },
    {
      "cell_type": "code",
      "metadata": {
        "id": "HZ4fK_95TdoU",
        "colab_type": "code",
        "colab": {
          "base_uri": "https://localhost:8080/",
          "height": 1000
        },
        "outputId": "377dc2c5-cc51-46cf-fb7b-27b8bed98a57"
      },
      "source": [
        "#Show the valid and predicted prices\n",
        "valid"
      ],
      "execution_count": null,
      "outputs": [
        {
          "output_type": "execute_result",
          "data": {
            "text/html": [
              "<div>\n",
              "<style scoped>\n",
              "    .dataframe tbody tr th:only-of-type {\n",
              "        vertical-align: middle;\n",
              "    }\n",
              "\n",
              "    .dataframe tbody tr th {\n",
              "        vertical-align: top;\n",
              "    }\n",
              "\n",
              "    .dataframe thead th {\n",
              "        text-align: right;\n",
              "    }\n",
              "</style>\n",
              "<table border=\"1\" class=\"dataframe\">\n",
              "  <thead>\n",
              "    <tr style=\"text-align: right;\">\n",
              "      <th></th>\n",
              "      <th>Close</th>\n",
              "      <th>Predictions</th>\n",
              "    </tr>\n",
              "    <tr>\n",
              "      <th>Date</th>\n",
              "      <th></th>\n",
              "      <th></th>\n",
              "    </tr>\n",
              "  </thead>\n",
              "  <tbody>\n",
              "    <tr>\n",
              "      <th>2019-06-17</th>\n",
              "      <td>193.889999</td>\n",
              "      <td>188.112350</td>\n",
              "    </tr>\n",
              "    <tr>\n",
              "      <th>2019-06-18</th>\n",
              "      <td>198.449997</td>\n",
              "      <td>189.377991</td>\n",
              "    </tr>\n",
              "    <tr>\n",
              "      <th>2019-06-19</th>\n",
              "      <td>197.869995</td>\n",
              "      <td>190.691376</td>\n",
              "    </tr>\n",
              "    <tr>\n",
              "      <th>2019-06-20</th>\n",
              "      <td>199.460007</td>\n",
              "      <td>191.937668</td>\n",
              "    </tr>\n",
              "    <tr>\n",
              "      <th>2019-06-21</th>\n",
              "      <td>198.779999</td>\n",
              "      <td>193.147385</td>\n",
              "    </tr>\n",
              "    <tr>\n",
              "      <th>2019-06-24</th>\n",
              "      <td>198.580002</td>\n",
              "      <td>194.227264</td>\n",
              "    </tr>\n",
              "    <tr>\n",
              "      <th>2019-06-25</th>\n",
              "      <td>195.570007</td>\n",
              "      <td>195.142181</td>\n",
              "    </tr>\n",
              "    <tr>\n",
              "      <th>2019-06-26</th>\n",
              "      <td>199.800003</td>\n",
              "      <td>195.731812</td>\n",
              "    </tr>\n",
              "    <tr>\n",
              "      <th>2019-06-27</th>\n",
              "      <td>199.740005</td>\n",
              "      <td>196.286255</td>\n",
              "    </tr>\n",
              "    <tr>\n",
              "      <th>2019-06-28</th>\n",
              "      <td>197.919998</td>\n",
              "      <td>196.791916</td>\n",
              "    </tr>\n",
              "    <tr>\n",
              "      <th>2019-07-01</th>\n",
              "      <td>201.550003</td>\n",
              "      <td>197.140442</td>\n",
              "    </tr>\n",
              "    <tr>\n",
              "      <th>2019-07-02</th>\n",
              "      <td>202.729996</td>\n",
              "      <td>197.545166</td>\n",
              "    </tr>\n",
              "    <tr>\n",
              "      <th>2019-07-03</th>\n",
              "      <td>204.410004</td>\n",
              "      <td>198.030304</td>\n",
              "    </tr>\n",
              "    <tr>\n",
              "      <th>2019-07-05</th>\n",
              "      <td>204.229996</td>\n",
              "      <td>198.633316</td>\n",
              "    </tr>\n",
              "    <tr>\n",
              "      <th>2019-07-08</th>\n",
              "      <td>200.020004</td>\n",
              "      <td>199.269135</td>\n",
              "    </tr>\n",
              "    <tr>\n",
              "      <th>2019-07-09</th>\n",
              "      <td>201.240005</td>\n",
              "      <td>199.670563</td>\n",
              "    </tr>\n",
              "    <tr>\n",
              "      <th>2019-07-10</th>\n",
              "      <td>203.229996</td>\n",
              "      <td>199.942230</td>\n",
              "    </tr>\n",
              "    <tr>\n",
              "      <th>2019-07-11</th>\n",
              "      <td>201.750000</td>\n",
              "      <td>200.215530</td>\n",
              "    </tr>\n",
              "    <tr>\n",
              "      <th>2019-07-12</th>\n",
              "      <td>203.300003</td>\n",
              "      <td>200.402954</td>\n",
              "    </tr>\n",
              "    <tr>\n",
              "      <th>2019-07-15</th>\n",
              "      <td>205.210007</td>\n",
              "      <td>200.598373</td>\n",
              "    </tr>\n",
              "    <tr>\n",
              "      <th>2019-07-16</th>\n",
              "      <td>204.500000</td>\n",
              "      <td>200.887131</td>\n",
              "    </tr>\n",
              "    <tr>\n",
              "      <th>2019-07-17</th>\n",
              "      <td>203.350006</td>\n",
              "      <td>201.189804</td>\n",
              "    </tr>\n",
              "    <tr>\n",
              "      <th>2019-07-18</th>\n",
              "      <td>205.660004</td>\n",
              "      <td>201.426071</td>\n",
              "    </tr>\n",
              "    <tr>\n",
              "      <th>2019-07-19</th>\n",
              "      <td>202.589996</td>\n",
              "      <td>201.716614</td>\n",
              "    </tr>\n",
              "    <tr>\n",
              "      <th>2019-07-22</th>\n",
              "      <td>207.220001</td>\n",
              "      <td>201.874374</td>\n",
              "    </tr>\n",
              "    <tr>\n",
              "      <th>2019-07-23</th>\n",
              "      <td>208.839996</td>\n",
              "      <td>202.163651</td>\n",
              "    </tr>\n",
              "    <tr>\n",
              "      <th>2019-07-24</th>\n",
              "      <td>208.669998</td>\n",
              "      <td>202.617233</td>\n",
              "    </tr>\n",
              "    <tr>\n",
              "      <th>2019-07-25</th>\n",
              "      <td>207.020004</td>\n",
              "      <td>203.148346</td>\n",
              "    </tr>\n",
              "    <tr>\n",
              "      <th>2019-07-26</th>\n",
              "      <td>207.740005</td>\n",
              "      <td>203.611343</td>\n",
              "    </tr>\n",
              "    <tr>\n",
              "      <th>2019-07-29</th>\n",
              "      <td>209.679993</td>\n",
              "      <td>204.031570</td>\n",
              "    </tr>\n",
              "    <tr>\n",
              "      <th>2019-07-30</th>\n",
              "      <td>208.779999</td>\n",
              "      <td>204.497009</td>\n",
              "    </tr>\n",
              "    <tr>\n",
              "      <th>2019-07-31</th>\n",
              "      <td>213.039993</td>\n",
              "      <td>204.924805</td>\n",
              "    </tr>\n",
              "    <tr>\n",
              "      <th>2019-08-01</th>\n",
              "      <td>208.429993</td>\n",
              "      <td>205.517288</td>\n",
              "    </tr>\n",
              "    <tr>\n",
              "      <th>2019-08-02</th>\n",
              "      <td>204.020004</td>\n",
              "      <td>205.958023</td>\n",
              "    </tr>\n",
              "    <tr>\n",
              "      <th>2019-08-05</th>\n",
              "      <td>193.339996</td>\n",
              "      <td>206.031723</td>\n",
              "    </tr>\n",
              "    <tr>\n",
              "      <th>2019-08-06</th>\n",
              "      <td>197.000000</td>\n",
              "      <td>205.292862</td>\n",
              "    </tr>\n",
              "    <tr>\n",
              "      <th>2019-08-07</th>\n",
              "      <td>199.039993</td>\n",
              "      <td>204.220123</td>\n",
              "    </tr>\n",
              "    <tr>\n",
              "      <th>2019-08-08</th>\n",
              "      <td>203.429993</td>\n",
              "      <td>203.108780</td>\n",
              "    </tr>\n",
              "    <tr>\n",
              "      <th>2019-08-09</th>\n",
              "      <td>200.990005</td>\n",
              "      <td>202.278915</td>\n",
              "    </tr>\n",
              "    <tr>\n",
              "      <th>2019-08-12</th>\n",
              "      <td>200.479996</td>\n",
              "      <td>201.574203</td>\n",
              "    </tr>\n",
              "    <tr>\n",
              "      <th>2019-08-13</th>\n",
              "      <td>208.970001</td>\n",
              "      <td>200.962997</td>\n",
              "    </tr>\n",
              "    <tr>\n",
              "      <th>2019-08-14</th>\n",
              "      <td>202.750000</td>\n",
              "      <td>200.886734</td>\n",
              "    </tr>\n",
              "    <tr>\n",
              "      <th>2019-08-15</th>\n",
              "      <td>201.740005</td>\n",
              "      <td>200.874664</td>\n",
              "    </tr>\n",
              "    <tr>\n",
              "      <th>2019-08-16</th>\n",
              "      <td>206.500000</td>\n",
              "      <td>200.835449</td>\n",
              "    </tr>\n",
              "    <tr>\n",
              "      <th>2019-08-19</th>\n",
              "      <td>210.350006</td>\n",
              "      <td>201.017853</td>\n",
              "    </tr>\n",
              "    <tr>\n",
              "      <th>2019-08-20</th>\n",
              "      <td>210.360001</td>\n",
              "      <td>201.542740</td>\n",
              "    </tr>\n",
              "    <tr>\n",
              "      <th>2019-08-21</th>\n",
              "      <td>212.639999</td>\n",
              "      <td>202.277176</td>\n",
              "    </tr>\n",
              "    <tr>\n",
              "      <th>2019-08-22</th>\n",
              "      <td>212.460007</td>\n",
              "      <td>203.220993</td>\n",
              "    </tr>\n",
              "    <tr>\n",
              "      <th>2019-08-23</th>\n",
              "      <td>202.639999</td>\n",
              "      <td>204.240051</td>\n",
              "    </tr>\n",
              "    <tr>\n",
              "      <th>2019-08-26</th>\n",
              "      <td>206.490005</td>\n",
              "      <td>204.744431</td>\n",
              "    </tr>\n",
              "    <tr>\n",
              "      <th>2019-08-27</th>\n",
              "      <td>204.160004</td>\n",
              "      <td>205.040924</td>\n",
              "    </tr>\n",
              "    <tr>\n",
              "      <th>2019-08-28</th>\n",
              "      <td>205.529999</td>\n",
              "      <td>205.071976</td>\n",
              "    </tr>\n",
              "    <tr>\n",
              "      <th>2019-08-29</th>\n",
              "      <td>209.009995</td>\n",
              "      <td>204.989777</td>\n",
              "    </tr>\n",
              "    <tr>\n",
              "      <th>2019-08-30</th>\n",
              "      <td>208.740005</td>\n",
              "      <td>205.023239</td>\n",
              "    </tr>\n",
              "  </tbody>\n",
              "</table>\n",
              "</div>"
            ],
            "text/plain": [
              "                 Close  Predictions\n",
              "Date                               \n",
              "2019-06-17  193.889999   188.112350\n",
              "2019-06-18  198.449997   189.377991\n",
              "2019-06-19  197.869995   190.691376\n",
              "2019-06-20  199.460007   191.937668\n",
              "2019-06-21  198.779999   193.147385\n",
              "2019-06-24  198.580002   194.227264\n",
              "2019-06-25  195.570007   195.142181\n",
              "2019-06-26  199.800003   195.731812\n",
              "2019-06-27  199.740005   196.286255\n",
              "2019-06-28  197.919998   196.791916\n",
              "2019-07-01  201.550003   197.140442\n",
              "2019-07-02  202.729996   197.545166\n",
              "2019-07-03  204.410004   198.030304\n",
              "2019-07-05  204.229996   198.633316\n",
              "2019-07-08  200.020004   199.269135\n",
              "2019-07-09  201.240005   199.670563\n",
              "2019-07-10  203.229996   199.942230\n",
              "2019-07-11  201.750000   200.215530\n",
              "2019-07-12  203.300003   200.402954\n",
              "2019-07-15  205.210007   200.598373\n",
              "2019-07-16  204.500000   200.887131\n",
              "2019-07-17  203.350006   201.189804\n",
              "2019-07-18  205.660004   201.426071\n",
              "2019-07-19  202.589996   201.716614\n",
              "2019-07-22  207.220001   201.874374\n",
              "2019-07-23  208.839996   202.163651\n",
              "2019-07-24  208.669998   202.617233\n",
              "2019-07-25  207.020004   203.148346\n",
              "2019-07-26  207.740005   203.611343\n",
              "2019-07-29  209.679993   204.031570\n",
              "2019-07-30  208.779999   204.497009\n",
              "2019-07-31  213.039993   204.924805\n",
              "2019-08-01  208.429993   205.517288\n",
              "2019-08-02  204.020004   205.958023\n",
              "2019-08-05  193.339996   206.031723\n",
              "2019-08-06  197.000000   205.292862\n",
              "2019-08-07  199.039993   204.220123\n",
              "2019-08-08  203.429993   203.108780\n",
              "2019-08-09  200.990005   202.278915\n",
              "2019-08-12  200.479996   201.574203\n",
              "2019-08-13  208.970001   200.962997\n",
              "2019-08-14  202.750000   200.886734\n",
              "2019-08-15  201.740005   200.874664\n",
              "2019-08-16  206.500000   200.835449\n",
              "2019-08-19  210.350006   201.017853\n",
              "2019-08-20  210.360001   201.542740\n",
              "2019-08-21  212.639999   202.277176\n",
              "2019-08-22  212.460007   203.220993\n",
              "2019-08-23  202.639999   204.240051\n",
              "2019-08-26  206.490005   204.744431\n",
              "2019-08-27  204.160004   205.040924\n",
              "2019-08-28  205.529999   205.071976\n",
              "2019-08-29  209.009995   204.989777\n",
              "2019-08-30  208.740005   205.023239"
            ]
          },
          "metadata": {
            "tags": []
          },
          "execution_count": 21
        }
      ]
    }
  ]
}